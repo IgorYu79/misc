{
 "cells": [
  {
   "cell_type": "markdown",
   "id": "cdca4aea",
   "metadata": {},
   "source": [
    "# Пример работы с API Яндекс-геокодер\n",
    "\n",
    "\n",
    "Определение координат по адресу.\n",
    "Для работы с API Яндекс Геокодер нужен токен. Инструкции по работе, получению ключа и условия использования:\n",
    "\n",
    "https://yandex.ru/dev/maps/geocoder/\n"
   ]
  },
  {
   "cell_type": "code",
   "execution_count": 1,
   "id": "14d1621c",
   "metadata": {},
   "outputs": [],
   "source": [
    "# Загрузка библиотек\n",
    "from yaml import safe_load\n",
    "import requests"
   ]
  },
  {
   "cell_type": "code",
   "execution_count": 2,
   "id": "54bed56e",
   "metadata": {},
   "outputs": [],
   "source": [
    "path = 'C:/projects/'\n",
    "# загрузка токена яндекс-карт\n",
    "with open (path + 'yamlconfig_geocoder.yaml') as file:\n",
    "    token_source = safe_load(file)\n",
    "token_geokoder = token_source['yandex_maps']['token'] # api-key"
   ]
  },
  {
   "cell_type": "code",
   "execution_count": 3,
   "id": "93cb2b7c",
   "metadata": {},
   "outputs": [],
   "source": [
    "# Готовим ссылку для запроса к API Яндекс-карт, подгружаем в нее API-ключ\n",
    "# ссылка взята отсюда: https://yandex.ru/dev/geocode/doc/ru/examples\n",
    "url = 'https://geocode-maps.yandex.ru/1.x/?apikey={}&format=json&geocode='.format(token_geokoder)"
   ]
  },
  {
   "cell_type": "code",
   "execution_count": 4,
   "id": "0842f98b",
   "metadata": {},
   "outputs": [
    {
     "data": {
      "text/plain": [
       "'37.603541 55.773849'"
      ]
     },
     "execution_count": 4,
     "metadata": {},
     "output_type": "execute_result"
    }
   ],
   "source": [
    "# адрес для определения координат, для примера\n",
    "adress = 'г. Москва, ул. Долгоруковская, д. 7'\n",
    "# переменная адрес + ссылка\n",
    "url_with_adress = url + adress\n",
    "respons = requests.get(url_with_adress).json()\n",
    "point = respons['response']['GeoObjectCollection']['featureMember'][0]['GeoObject']['Point']['pos']\n",
    "# Яндекс геокодер выдает координаты в формате долгота-широта вместо широта-долгота\n",
    "point"
   ]
  },
  {
   "cell_type": "code",
   "execution_count": 5,
   "id": "9fb7f1d8",
   "metadata": {},
   "outputs": [
    {
     "name": "stdout",
     "output_type": "stream",
     "text": [
      "Адрес: г. Москва, ул. Долгоруковская, д. 7\n",
      "Широта: 55.773849, долгота: 37.603541\n"
     ]
    }
   ],
   "source": [
    "latitude = float(point.split()[1])\n",
    "longitude = float(point.split()[0])\n",
    "print(f'Адрес: {adress}')\n",
    "print(f'Широта: {latitude}, долгота: {longitude}')"
   ]
  }
 ],
 "metadata": {
  "kernelspec": {
   "display_name": "Python 3 (ipykernel)",
   "language": "python",
   "name": "python3"
  },
  "language_info": {
   "codemirror_mode": {
    "name": "ipython",
    "version": 3
   },
   "file_extension": ".py",
   "mimetype": "text/x-python",
   "name": "python",
   "nbconvert_exporter": "python",
   "pygments_lexer": "ipython3",
   "version": "3.9.16"
  }
 },
 "nbformat": 4,
 "nbformat_minor": 5
}
